{
 "cells": [
  {
   "cell_type": "markdown",
   "metadata": {},
   "source": [
    "PRACTICA CALIFICADA N°1\n",
    "\n"
   ]
  },
  {
   "cell_type": "markdown",
   "metadata": {},
   "source": [
    "Variables:"
   ]
  },
  {
   "cell_type": "markdown",
   "metadata": {},
   "source": [
    "Problema 1:\n",
    "\n",
    "Escribir un programa que solicite su nombre de usuario por consola y después de que el usuario lo\n",
    "introduzca muestre por pantalla la cadena “¡Hola <nombre>!”, donde <nombre> es el nombre que el\n",
    "usuario haya introducido.\n"
   ]
  },
  {
   "cell_type": "code",
   "execution_count": null,
   "metadata": {},
   "outputs": [],
   "source": [
    "#Solicita nombre a usuario\n",
    "usuario = input('introducir nombre de usuario: ')\n",
    "\n",
    "print(f'¡hola {usuario}!')\n"
   ]
  },
  {
   "cell_type": "markdown",
   "metadata": {},
   "source": [
    "Problema 2:\n",
    "\n",
    "En los Estados Unidos, se acostumbra dejar una propina a su mesero después de cenar en un\n",
    "restaurante, generalmente una cantidad igual al 15% o más del costo de su comida.\n",
    "Escriba un programa que pregunte al usuario cuánto fue su consumo en el restaurante y que\n",
    "porcentaje de propina desea dejar al mesero. Su programa debe devolver la cantidad de dinero a\n",
    "dejar como propina.\n"
   ]
  },
  {
   "cell_type": "code",
   "execution_count": null,
   "metadata": {},
   "outputs": [],
   "source": [
    "#sacando porcentaje der propina por consumo en el restaurante\n",
    "consumo = float(input(\"cuanto es el consumo de usuario: \")) \n",
    "pocentaje = float(input(\"cuanto de porcentaje quiere dejar de propina: \"))\n",
    "\n",
    "propina = (consumo*pocentaje)/100\n",
    "\n",
    "print(f\"el consumo del usuario en el restaurante es de {consumo}\")\n",
    "print(f\"el usuario dejo de propina {propina}\")\n"
   ]
  },
  {
   "cell_type": "markdown",
   "metadata": {},
   "source": [
    "Problema 3:\n",
    "\n",
    "Una juguetería tiene mucho éxito en dos de sus productos: payasos y muñecas. Suele hacer venta\n",
    "por correo y la empresa de logística les cobra por peso de cada paquete así que deben calcular el\n",
    "peso de los payasos y muñecas que saldrán en cada paquete a demanda. Cada payaso pesa 112 g y\n",
    "cada muñeca 75 g. Escribir un programa que lea el número de payasos y muñecas vendidos en el\n",
    "último pedido y calcule el peso total del paquete que será enviado."
   ]
  },
  {
   "cell_type": "code",
   "execution_count": null,
   "metadata": {},
   "outputs": [],
   "source": [
    "#cuanto es el peso de la venta de payasos y muñecas \n",
    "payaso = int(input(\"ingrese la candidad de payasos a vender: \"))\n",
    "muñeca = int(input(\"ingrese la candidad de muñecas a vender: \"))\n",
    "\n",
    "peso_payaso = 112 #g\n",
    "peso_muñeca = 75 #g\n",
    "\n",
    "pedido = (payaso*peso_payaso)+(muñeca*peso_muñeca)\n",
    "\n",
    "print(f\"se vendieron {payaso} payasos\")\n",
    "print(f\"se vendieron {muñeca} nuñecas\")\n",
    "print(f\"el peso del ultimo pedido es de {pedido} g \")"
   ]
  },
  {
   "cell_type": "markdown",
   "metadata": {},
   "source": [
    "Problema 4:\n",
    "\n",
    "Escribir un programa que lea un entero positivo, N, introducido por el usuario y después muestre en\n",
    "pantalla la suma de todos los enteros desde 1 hasta N. La suma de los N primeros enteros positivos\n",
    "puede ser calculada de la siguiente forma:\n",
    "\n",
    "![Alt text](image-1.png)\n"
   ]
  },
  {
   "cell_type": "code",
   "execution_count": null,
   "metadata": {},
   "outputs": [],
   "source": [
    "#suma de numeros enteros \n",
    "numero = int(input(\"introdusca el numero entero\"))\n",
    "\n",
    "suma = (numero*(numero+1))/2\n",
    "\n",
    "print(f\"el numero ingresado es {numero}\")\n",
    "print(f\"la suma de enteros es {suma}\")"
   ]
  },
  {
   "cell_type": "markdown",
   "metadata": {},
   "source": [
    "Condicionales:\n",
    "\n",
    "Problema 5:\n",
    "\n",
    "Escribir un programa que solicite al usuario que ingrese cuántos shows musicales ha visto en el\n",
    "último año y almacene ese número en una variable. A continuación, mostrar en pantalla un valor de\n",
    "verdad (True o False - tipo de datos booleanos) que indique si el usuario ha visto más de 3 shows.\n"
   ]
  },
  {
   "cell_type": "code",
   "execution_count": null,
   "metadata": {},
   "outputs": [],
   "source": [
    "#cuantos show vio en los ultimos años\n",
    "numero = int(input('ingrese el numero de show que a visto:'))\n",
    "\n",
    "print(numero == 1)\n",
    "print(numero == 2)\n",
    "print(numero == 3)\n",
    "\n",
    "if numero == 1:\n",
    "    print(\"el usuario a visto mas  show en todo el año\")\n",
    "elif numero == 2:\n",
    "    print(\"el usuario a visto 2 show en todo el año\")\n",
    "elif numero == 3:\n",
    "    print(\"el usuario a visto 3 show en todo el año\")\n",
    "elif numero == 4:\n",
    "    print(\"el usuario a visto mas 3 show en todo el año\")    \n",
    "\n",
    "\n"
   ]
  },
  {
   "cell_type": "code",
   "execution_count": null,
   "metadata": {},
   "outputs": [],
   "source": [
    "print(f\"el usuario a visto en todo el año {numero} show\")"
   ]
  },
  {
   "cell_type": "markdown",
   "metadata": {},
   "source": [
    "Problema 6:\n",
    "\n",
    "Escribir un programa para una empresa que tiene salas de juegos para todas las edades y quiere\n",
    "calcular de forma automática el precio que debe cobrar a sus clientes por entrar. El programa debe\n",
    "preguntar al usuario la edad del cliente y mostrar el precio de la entrada. Si el cliente es menor de 4\n",
    "años puede entrar gratis, si tiene entre 4 y 18 años debe pagar $5 y si es mayor de 18 años, S10."
   ]
  },
  {
   "cell_type": "code",
   "execution_count": null,
   "metadata": {},
   "outputs": [],
   "source": [
    "#juegos para todas las edades\n",
    "\n",
    "cliente = float(input(\"ingesar la edad del cliente: \"))\n",
    "\n",
    "if cliente < 4:\n",
    "    print(\"El cliente entra gratis\")\n",
    "elif cliente < 18:\n",
    "    print(\"El cliente debe que pagar $5\")\n",
    "elif cliente >=18:\n",
    "    print(\"El cliente debe que pagar $10\")\n"
   ]
  },
  {
   "cell_type": "markdown",
   "metadata": {},
   "source": [
    "Problema 7:\n",
    "\n",
    "Realiza un programa que lea dos números por teclado y permite elegir entre 3 opciones en un menú:\n",
    "- Mostrar una suma de los dos números\n",
    "- Mostrar una resta de los dos números (el primero menos el segundo)\n",
    "- Mostrar una multiplicación de los dos números\n",
    "- En caso de introducir una opción inválida, el programa informará de que no es correcta.\n"
   ]
  },
  {
   "cell_type": "code",
   "execution_count": null,
   "metadata": {},
   "outputs": [],
   "source": [
    "#operaciones matematicas\n",
    "num1 =10 #int(input( 'ingrese el primer numero: ')) \n",
    "num2 =5  #int(input('ingrese el segundo numero: '))\n",
    "suma = num1 + num2\n",
    "resta = num1 - num2\n",
    "multiplicacion = num1 * num2\n",
    "opcion = int(input('ingrese que opcion deseada del 0 a 3: '))\n",
    "\n",
    "if opcion == 0: \n",
    "     print(f\"la suma  de los digitos es: {suma}\")\n",
    "elif opcion == 1:\n",
    "     print(f\"la resta es: {resta}\")\n",
    "elif opcion == 2:\n",
    "     print(f\"la multiplicacion es: {multiplicacion}\")\n",
    "#elif opcion >= 3:\n",
    "else:\n",
    "     print('el programa informa que no es correcto ')"
   ]
  },
  {
   "cell_type": "markdown",
   "metadata": {},
   "source": [
    "Problema 8:\n",
    "\n",
    "Supongamos que estás en un país donde se acostumbra desayunar entre las 7:00 y las 8:00, almorzar\n",
    "entre las 12:00 y las 13:00 y cenar entre las 18:00 y las 19:00.\n",
    "Implemente un programa que solicite al usuario una hora y le indique si es la hora del desayuno, la\n",
    "hora del almuerzo o la hora de la cena. Si no es hora de comer, no envíes nada.\n",
    "Suponga que la entrada del usuario se formatea en formato de 24 horas como #:## o ##:##. Y\n",
    "suponga que el rango de tiempo de cada comida es inclusivo. Por ejemplo, ya sean las 7:00, las 7:01,\n",
    "las 7:59 o las 8:00, o en cualquier momento intermedio, es hora de desayunar."
   ]
  },
  {
   "cell_type": "code",
   "execution_count": null,
   "metadata": {},
   "outputs": [],
   "source": [
    "#horarios para comer\n",
    "hora = input(\"Introduzca una hora en formato HH:MM: \")\n",
    "\n",
    "# Obtener la hora y los minutos ingresados por el usuario\n",
    "#hora = hora.split(':')\n",
    "\n",
    "\n",
    "# Verificar si es hora de desayunar\n",
    "if 7 <= hora <= 8:\n",
    "    print(\"Es hora de desayunar\")\n",
    "\n",
    "# Verificar si es hora de almorzar\n",
    "elif 12 <= hora <= 13:\n",
    "    print(\"Es hora de almorzar\")\n",
    "\n",
    "# Verificar si es hora de cenar\n",
    "elif 18 <= hora <= 19:\n",
    "    print(\"Es hora de cenar\")"
   ]
  },
  {
   "cell_type": "markdown",
   "metadata": {},
   "source": [
    "Colecciones de Datos:\n",
    "\n",
    "Problema 9:\n",
    "\n",
    "Escriba un programa que, dada una lista, devuelve una nueva lista cuyo contenido sea igual a la\n",
    "original pero invertida. Así, dada la lista ['Di', 'buen', 'día', 'a', 'papa'], deberá devolver ['papa', 'a',\n",
    "'día', 'buen', 'Di']."
   ]
  },
  {
   "cell_type": "code",
   "execution_count": null,
   "metadata": {},
   "outputs": [],
   "source": [
    "#invertir el texto\n",
    "\n",
    "dato = ['Di','buen','a','papa']\n",
    "\n",
    "dato.reverse()\n",
    "print(dato)\n"
   ]
  },
  {
   "cell_type": "markdown",
   "metadata": {},
   "source": [
    "Problema 10:\n",
    "\n",
    "Escriba un programa para imprimir una lista específica después de eliminar los elementos que se\n",
    "encuentran en la posición 0, 4 y 5.\n",
    "lista de muestra: ['Rojo', 'Verde', 'Blanco', 'Negro', 'Rosa', 'Amarillo']\n",
    "Resultado esperado: ['Verde', 'Blanco', 'Negro']"
   ]
  },
  {
   "cell_type": "code",
   "execution_count": null,
   "metadata": {},
   "outputs": [],
   "source": [
    "#eliminar colores\n",
    "colores = ['Rojo','Verde','Blanco','Negro','Rosa','Amarillo']\n",
    "\n",
    "colores.remove('Rojo')\n",
    "colores.remove('Rosa')\n",
    "colores.remove('Amarillo')\n",
    "\n",
    "print(colores)\n"
   ]
  },
  {
   "cell_type": "markdown",
   "metadata": {},
   "source": [
    "Problema 11:\n",
    "\n",
    "Escriba un programa Python que se encargue de eliminar los elementos duplicados de la siguiente\n",
    "lista. Su programa debe retornar otra lista sin los duplicados.\n",
    "Lista original: [1, 1, 2, 3, 4, 4, 5, 1]\n",
    "Lista procesada: [1, 2, 3, 4,, 5]"
   ]
  },
  {
   "cell_type": "code",
   "execution_count": null,
   "metadata": {},
   "outputs": [],
   "source": [
    "#Eliminar elementos que se dupliquen\n",
    "lista_original = [1,1,2,3,4,4,5,1]\n",
    "\n",
    "lista_prosesada = set(lista_original)\n",
    "print(lista_prosesada)\n"
   ]
  },
  {
   "cell_type": "markdown",
   "metadata": {},
   "source": [
    "Problema 12:\n",
    "\n",
    "La mayoría de los archivos tienen extensiones de archivo, el cual es un sufijo que comienza con un\n",
    "punto (.) al final de su nombre. Por ejemplo, los nombres de archivo para GIF terminan en .gif y los\n",
    "nombres de archivo para JPEG terminan en .jpg o .jpeg. Mientras que en los sistemas operativos\n",
    "como Windows, el tipo de archivo le sirve al computador abrir el archivo en el formato apropiado, en\n",
    "la web esto es distinto. Los navegadores web, por el contrario, se basan en tipos de medios,\n",
    "anteriormente conocidos como tipos MIME, para determinar cómo mostrar los archivos que viven en\n",
    "la web.\n",
    "Implemente un programa que solicite al usuario el nombre de un archivo y luego genere el tipo de\n",
    "archivo MIME correspondiente. Si el nombre del archivo termina en cualquiera de estos sufijos (sin\n",
    "importar el uso de mayúsculas y minúsculas) :\n",
    "\n",
    "![Alt text](image-2.png)\n",
    "\n",
    "Si el nombre del archivo termina con algún otro sufijo que no se encuentra en la lista o no tiene\n",
    "ningún sufijo, en su lugar su programa deberá devolver application/octet-stream.\n",
    "\n"
   ]
  },
  {
   "cell_type": "code",
   "execution_count": null,
   "metadata": {},
   "outputs": [],
   "source": [
    "archivo = input(\"Ingrese el nombre del archivo: \")\n",
    "\n",
    "# Convertir el nombre del archivo a minúsculas\n",
    "archivo = archivo.lower()\n",
    "\n",
    "# Determinar el tipo de archivo MIME correspondiente\n",
    "if archivo.endswith(\".gif\"):\n",
    "    tipo_archivo = \"image/gif\"\n",
    "elif archivo.endswith(\".jpg\") or archivo.endswith(\".jpeg\"):\n",
    "    tipo_archivo = \"image/jpeg\"\n",
    "else:\n",
    "    tipo_archivo = \"Tipo de archivo no válido\"\n",
    "\n",
    "# Imprimir el tipo de archivo MIME correspondiente\n",
    "print(\"El tipo de archivo MIME correspondiente es:\", tipo_archivo)"
   ]
  },
  {
   "cell_type": "code",
   "execution_count": null,
   "metadata": {},
   "outputs": [],
   "source": [
    "archivo = input(\"Ingrese el nombre del archivo: \")\n",
    "\n",
    "# Convertir el nombre del archivo a minúsculas\n",
    "archivo = archivo.lower()\n",
    "\n",
    "# Determinar el tipo de archivo MIME correspondiente\n",
    "if archivo.endswith(\".gif\"):\n",
    "    tipo_media = \"image/gif\"\n",
    "elif archivo.endswith(\".jpg\") or archivo.endswith(\".jpeg\"):\n",
    "    tipo_media = \"image/jpeg\"\n",
    "else:\n",
    "    tipo_media = \"Tipo de archivo no válido\"\n",
    "\n",
    "# Imprimir el tipo de archivo MIME correspondiente\n",
    "print(\"El tipo de archivo MIME correspondiente es:\", tipo_media)"
   ]
  },
  {
   "cell_type": "code",
   "execution_count": null,
   "metadata": {},
   "outputs": [],
   "source": [
    "MIMES = {\n",
    "    'gif':'image/gif',\n",
    "    'jpg':'image/jpeg',\n",
    "    'jepg':'image/jpeg',\n",
    "    'png':'image/png',\n",
    "    'pdf':'aplication/pdf',\n",
    "    'txt':'text/plain',\n",
    "    'zip':'application/zip'\n",
    "    }   \n",
    "#obtener dato\n",
    "response = input('ext mane: ')\n",
    "response = response.lower().strip()\n",
    "\n",
    "#separamos archivos  de extencion\n",
    "_, ext = response.split(',')\n",
    "\n",
    "\n",
    "#obtener valore MIME responde al diccionario\n",
    "if ext.lower() in MIMES.keys():\n",
    "    x = MIMES.get(ext)\n",
    "    print(x)\n",
    "else:\n",
    "    print('application/octet-stream')"
   ]
  }
 ],
 "metadata": {
  "kernelspec": {
   "display_name": "Python 3",
   "language": "python",
   "name": "python3"
  },
  "language_info": {
   "codemirror_mode": {
    "name": "ipython",
    "version": 3
   },
   "file_extension": ".py",
   "mimetype": "text/x-python",
   "name": "python",
   "nbconvert_exporter": "python",
   "pygments_lexer": "ipython3",
   "version": "3.12.0"
  }
 },
 "nbformat": 4,
 "nbformat_minor": 2
}
